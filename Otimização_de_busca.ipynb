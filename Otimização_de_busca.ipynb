{
  "nbformat": 4,
  "nbformat_minor": 0,
  "metadata": {
    "colab": {
      "name": "Otimização de busca.ipynb",
      "provenance": [],
      "collapsed_sections": [],
      "authorship_tag": "ABX9TyNvMhuIhlRQWa4a8ZSI4hXI",
      "include_colab_link": true
    },
    "kernelspec": {
      "name": "python3",
      "display_name": "Python 3"
    }
  },
  "cells": [
    {
      "cell_type": "markdown",
      "metadata": {
        "id": "view-in-github",
        "colab_type": "text"
      },
      "source": [
        "<a href=\"https://colab.research.google.com/github/pedroblossbraga/AlgoOptimize/blob/main/Otimiza%C3%A7%C3%A3o_de_busca.ipynb\" target=\"_parent\"><img src=\"https://colab.research.google.com/assets/colab-badge.svg\" alt=\"Open In Colab\"/></a>"
      ]
    },
    {
      "cell_type": "code",
      "metadata": {
        "id": "VPtzHb-d0c7s"
      },
      "source": [
        ""
      ],
      "execution_count": null,
      "outputs": []
    },
    {
      "cell_type": "markdown",
      "metadata": {
        "id": "_TBR5npBXCT6"
      },
      "source": [
        "# Otimização de busca\n",
        "\n",
        "Digamos que tenha duas sequências, e queira descobrir se cada valor de uma sequência está na outra, e registrar isso, sem perda de índices.\n",
        "\n",
        "\n",
        "## Problema:\n",
        "- Dadas duas sequências $\\{ x_j \\}_{j=1}^{N_1}$ , $\\{ y_k \\}_{k=1}^{N_2}$\n",
        "- verificar se cada elemento $x_j$ está em $\\{ y_k \\}_{k=1}^{N_2}$\n",
        "\n",
        "\n",
        "## Funções auxiliares\n",
        "- Função de únicos\n",
        "\n",
        "\t$\\mathcal{U}(s) = \\cup_j s_j , \\forall s_j \\in s \\\\ \\mathcal{U}: \\mathbb{R}^n \\rightarrow \\mathbb{R}^n$\n",
        "\n",
        "- Função de Comparação:\n",
        "\n",
        "  $C(z_1, z_2) = 1 \\Leftrightarrow z_1=z_2, \\\\ C(z_1, z_2) = 0 \\Leftrightarrow z_1\\neq z_2, $\n",
        "\n",
        "## Soluções\n",
        "- Busca bruta:\n",
        "\n",
        "\t$C(x_j, \\{y_k\\}), \\forall x_j$\n",
        "\t\n",
        "- Busca nos únicos:\n",
        "\n",
        "\t$C(x_j, \\mathcal{U}(\\{y_k\\})), \\forall x_j$\n",
        "\t\n",
        "\t$ |\\mathcal{U}(\\{ y_k \\})| \\leq | \\{ y_k \\} | \\Rightarrow O(C(x_j, \\mathcal{U}( \\{ y_k \\} ))) \\leq O(C(x_j, \\{ y_k \\} )), \\forall x_j$\n",
        "\t\n",
        "- Busca na intersecção:\n",
        "\n",
        "\t$C(x_j, \\mathcal{U}(\\{y_k\\}) \\cap \\mathcal{U}(\\{x_j\\})), \\forall x_j$\n",
        "\t\n",
        "\tSe $\\exists y_k$ tal que $y_k \\notin \\{x_j\\}$ (ou até mesmo tendo que $| \\mathcal{U}( \\{ y_k \\} ) \\cap \\mathcal{U}( \\{ x_j \\} ) | \\leq | \\mathcal{U}( \\{y_k \\} ) \\cup \\mathcal{U}( \\{x_j \\} ) | $)\n",
        "\t\n",
        "\tEntão $|\\mathcal{U}(\\{y_k\\}) \\cap \\mathcal{U}(\\{x_j\\})| \\leq | \\mathcal{U}(\\{y_k\\})|$\n",
        "\t\n",
        "\tE por fim:\n",
        "\t\n",
        "\t$ O(C(x_j, \\mathcal{U}(\\{y_k\\}) \\cap \\mathcal{U}(\\{x_j\\}))) \\leq O(C(x_j, \\mathcal{U}(\\{y_k\\}))) \\leq O(C(x_j, \\{y_k\\}))$\n",
        "\t\n",
        "\n",
        "## Obs:\n",
        "- se não estivéssemos preocupados em guardar o índice, obviamente poderíamos considerar sempre os elementos sem repetição de $\\{x_j\\}$, i.e., $\\mathcal{U}(\\{x_j\\})$\n"
      ]
    },
    {
      "cell_type": "code",
      "metadata": {
        "id": "09fH81dqLVm3"
      },
      "source": [
        "from IPython.display import display\n",
        "import time\n",
        "import pandas as pd\n",
        "import numpy as np\n",
        "import random"
      ],
      "execution_count": 75,
      "outputs": []
    },
    {
      "cell_type": "code",
      "metadata": {
        "colab": {
          "base_uri": "https://localhost:8080/",
          "height": 142
        },
        "id": "sagVm9b3FCEl",
        "outputId": "208df090-fc73-4b4e-92b3-63a72e191f9c"
      },
      "source": [
        "def unique(l):\n",
        "  aux = []\n",
        "  for i in l:\n",
        "    if i not in aux:\n",
        "      aux.append(i)\n",
        "  return aux\n",
        "\n",
        "class ElementSearch:\n",
        "  def __init__(self, x, y):\n",
        "    self.x = x\n",
        "    self.y = y\n",
        "    self.intersection = list(set(x)&set(y))\n",
        "    self.u_x = unique(x)\n",
        "    self.u_y = unique(y)\n",
        "\n",
        "  # (I) brute search\n",
        "  def brute_search(self):\n",
        "    x,y = self.x, self.y\n",
        "    res=[]\n",
        "    t0=time.time()\n",
        "    for x_j in x:\n",
        "      N = len(y)\n",
        "      if x_j in y:\n",
        "        res.append('Found')\n",
        "      else:\n",
        "        res.append('Not Found')\n",
        "    dt = time.time() - t0\n",
        "    return res, N, dt\n",
        "\n",
        "  # (II) unique search\n",
        "  def unique_search(self):\n",
        "    x = self.x\n",
        "    u_y = self.u_y\n",
        "    res=[]\n",
        "    t0=time.time()\n",
        "    for x_j in x:\n",
        "      N = len(u_y)\n",
        "      if x_j in u_y:\n",
        "        \n",
        "        res.append('Found')\n",
        "      else:\n",
        "        res.append('Not Found')\n",
        "    dt= time.time() - t0\n",
        "    return res, N, dt\n",
        "\n",
        "  # (III) intersection search\n",
        "  def intersection_search(self):\n",
        "    res=[]\n",
        "    u_x = self.u_x\n",
        "    u_y = self.u_y\n",
        "    intersection = self.intersection\n",
        "\n",
        "    t0=time.time()\n",
        "    for x_j in x:\n",
        "      N = len(intersection)\n",
        "      if x_j in intersection:\n",
        "        res.append('Found')\n",
        "      else:\n",
        "        res.append('Not Found')\n",
        "    dt= time.time() - t0\n",
        "    return res, N, dt\n",
        "\n",
        "  \n",
        "  def results(self, verbose=False):\n",
        "    results ={\n",
        "        'res': [],\n",
        "        'y_size': [],\n",
        "        'dt (s)': [],\n",
        "        'algorithm':[]\n",
        "    }\n",
        "    algo_dict = {\n",
        "        self.brute_search:'brute',\n",
        "        self.unique_search:'unique',\n",
        "        self.intersection_search:'intersection'\n",
        "    }\n",
        "    for algo in [self.brute_search, self.unique_search, self.intersection_search]:\n",
        "      res, N, dt= algo()\n",
        "      if verbose:\n",
        "        print('res: {}\\n c: {} \\n dt: {}'.format(res, c, dt))\n",
        "      results['res'].append(res)\n",
        "      results['y_size'].append(N)\n",
        "      results['dt (s)'].append(dt)\n",
        "      results['algorithm'].append(algo_dict[algo])\n",
        "\n",
        "    df = pd.DataFrame(results)\n",
        "    df = df.sort_values(['dt (s)'], ascending=False)\n",
        "    display(df)\n",
        "\n",
        "\n",
        "x = ['a','a','b','c','c','c','d','e']\n",
        "y = ['a','d','d','d','d','f','g']\n",
        "\n",
        "ElementSearch(x,y).results()"
      ],
      "execution_count": 68,
      "outputs": [
        {
          "output_type": "display_data",
          "data": {
            "text/html": [
              "<div>\n",
              "<style scoped>\n",
              "    .dataframe tbody tr th:only-of-type {\n",
              "        vertical-align: middle;\n",
              "    }\n",
              "\n",
              "    .dataframe tbody tr th {\n",
              "        vertical-align: top;\n",
              "    }\n",
              "\n",
              "    .dataframe thead th {\n",
              "        text-align: right;\n",
              "    }\n",
              "</style>\n",
              "<table border=\"1\" class=\"dataframe\">\n",
              "  <thead>\n",
              "    <tr style=\"text-align: right;\">\n",
              "      <th></th>\n",
              "      <th>res</th>\n",
              "      <th>y_size</th>\n",
              "      <th>dt (s)</th>\n",
              "      <th>algorithm</th>\n",
              "    </tr>\n",
              "  </thead>\n",
              "  <tbody>\n",
              "    <tr>\n",
              "      <th>0</th>\n",
              "      <td>[Found, Found, Not Found, Not Found, Not Found...</td>\n",
              "      <td>7</td>\n",
              "      <td>0.000003</td>\n",
              "      <td>brute</td>\n",
              "    </tr>\n",
              "    <tr>\n",
              "      <th>1</th>\n",
              "      <td>[Found, Found, Not Found, Not Found, Not Found...</td>\n",
              "      <td>4</td>\n",
              "      <td>0.000002</td>\n",
              "      <td>unique</td>\n",
              "    </tr>\n",
              "    <tr>\n",
              "      <th>2</th>\n",
              "      <td>[Found, Found, Not Found, Not Found, Not Found...</td>\n",
              "      <td>2</td>\n",
              "      <td>0.000002</td>\n",
              "      <td>intersection</td>\n",
              "    </tr>\n",
              "  </tbody>\n",
              "</table>\n",
              "</div>"
            ],
            "text/plain": [
              "                                                 res  ...     algorithm\n",
              "0  [Found, Found, Not Found, Not Found, Not Found...  ...         brute\n",
              "1  [Found, Found, Not Found, Not Found, Not Found...  ...        unique\n",
              "2  [Found, Found, Not Found, Not Found, Not Found...  ...  intersection\n",
              "\n",
              "[3 rows x 4 columns]"
            ]
          },
          "metadata": {
            "tags": []
          }
        }
      ]
    },
    {
      "cell_type": "code",
      "metadata": {
        "id": "Fa-zPkZLHKDa"
      },
      "source": [
        "x = ['a','a','b','c','c','c','d','e']\n",
        "y = ['a','d','d','d','d','f','g']\n",
        "\n",
        "ElementSearch(x,y).results()"
      ],
      "execution_count": null,
      "outputs": []
    },
    {
      "cell_type": "code",
      "metadata": {
        "id": "1orNn4pR2g2F",
        "colab": {
          "base_uri": "https://localhost:8080/",
          "height": 142
        },
        "outputId": "efb312fe-1d11-4313-e7a5-fdaccfa3a353"
      },
      "source": [
        "v1 = np.random.rand(100)\n",
        "v2 = np.random.rand(100)\n",
        "ElementSearch(v1,v2).results()"
      ],
      "execution_count": 71,
      "outputs": [
        {
          "output_type": "display_data",
          "data": {
            "text/html": [
              "<div>\n",
              "<style scoped>\n",
              "    .dataframe tbody tr th:only-of-type {\n",
              "        vertical-align: middle;\n",
              "    }\n",
              "\n",
              "    .dataframe tbody tr th {\n",
              "        vertical-align: top;\n",
              "    }\n",
              "\n",
              "    .dataframe thead th {\n",
              "        text-align: right;\n",
              "    }\n",
              "</style>\n",
              "<table border=\"1\" class=\"dataframe\">\n",
              "  <thead>\n",
              "    <tr style=\"text-align: right;\">\n",
              "      <th></th>\n",
              "      <th>res</th>\n",
              "      <th>y_size</th>\n",
              "      <th>dt (s)</th>\n",
              "      <th>algorithm</th>\n",
              "    </tr>\n",
              "  </thead>\n",
              "  <tbody>\n",
              "    <tr>\n",
              "      <th>0</th>\n",
              "      <td>[Not Found, Not Found, Not Found, Not Found, N...</td>\n",
              "      <td>100</td>\n",
              "      <td>0.000799</td>\n",
              "      <td>brute</td>\n",
              "    </tr>\n",
              "    <tr>\n",
              "      <th>1</th>\n",
              "      <td>[Not Found, Not Found, Not Found, Not Found, N...</td>\n",
              "      <td>100</td>\n",
              "      <td>0.000444</td>\n",
              "      <td>unique</td>\n",
              "    </tr>\n",
              "    <tr>\n",
              "      <th>2</th>\n",
              "      <td>[Not Found, Not Found, Not Found, Not Found, N...</td>\n",
              "      <td>0</td>\n",
              "      <td>0.000005</td>\n",
              "      <td>intersection</td>\n",
              "    </tr>\n",
              "  </tbody>\n",
              "</table>\n",
              "</div>"
            ],
            "text/plain": [
              "                                                 res  ...     algorithm\n",
              "0  [Not Found, Not Found, Not Found, Not Found, N...  ...         brute\n",
              "1  [Not Found, Not Found, Not Found, Not Found, N...  ...        unique\n",
              "2  [Not Found, Not Found, Not Found, Not Found, N...  ...  intersection\n",
              "\n",
              "[3 rows x 4 columns]"
            ]
          },
          "metadata": {
            "tags": []
          }
        }
      ]
    },
    {
      "cell_type": "code",
      "metadata": {
        "colab": {
          "base_uri": "https://localhost:8080/"
        },
        "id": "tuhtLlkCLKy-",
        "outputId": "2f6f68e1-69f9-4510-fb33-0efbeb4bded3"
      },
      "source": [
        "random.randint(0,10)"
      ],
      "execution_count": 76,
      "outputs": [
        {
          "output_type": "execute_result",
          "data": {
            "text/plain": [
              "10"
            ]
          },
          "metadata": {
            "tags": []
          },
          "execution_count": 76
        }
      ]
    },
    {
      "cell_type": "code",
      "metadata": {
        "colab": {
          "base_uri": "https://localhost:8080/"
        },
        "id": "HZcB-LlpIVzc",
        "outputId": "ab328d10-9b7a-4ccb-8349-5d88c900ff89"
      },
      "source": [
        "## name search\n",
        "names = ['albert', 'bolzano', 'cauchy', \"d'alambert\", 'euclid', 'fourier', 'gauss', 'hilbert', 'isaac', 'jacobian', 'kolmogorov', 'leonard',\n",
        "         'maxwell', 'newton', 'oparin', 'planck', 'quentin', 'ramanujan', 'srinivasa', 'tchaikowsky', 'ursula', 'vinci', 'xenonium', 'f(x)', 'zigmund']\n",
        "def generate_name_vector(N, names=names):\n",
        "  return [names[random.randint(0, len(names)-1)] for k in range(N)]\n",
        "\n",
        "generate_name_vector(N=100)"
      ],
      "execution_count": 80,
      "outputs": [
        {
          "output_type": "execute_result",
          "data": {
            "text/plain": [
              "[\"d'alambert\",\n",
              " 'fourier',\n",
              " 'fourier',\n",
              " 'bolzano',\n",
              " 'zigmund',\n",
              " 'quentin',\n",
              " 'kolmogorov',\n",
              " 'maxwell',\n",
              " 'newton',\n",
              " 'vinci',\n",
              " 'euclid',\n",
              " 'maxwell',\n",
              " 'ramanujan',\n",
              " 'ramanujan',\n",
              " 'srinivasa',\n",
              " 'albert',\n",
              " 'euclid',\n",
              " \"d'alambert\",\n",
              " 'vinci',\n",
              " 'tchaikowsky',\n",
              " 'zigmund',\n",
              " 'bolzano',\n",
              " 'tchaikowsky',\n",
              " 'srinivasa',\n",
              " \"d'alambert\",\n",
              " 'f(x)',\n",
              " 'newton',\n",
              " 'ursula',\n",
              " 'planck',\n",
              " 'tchaikowsky',\n",
              " 'vinci',\n",
              " 'ramanujan',\n",
              " 'bolzano',\n",
              " 'kolmogorov',\n",
              " 'xenonium',\n",
              " 'vinci',\n",
              " 'leonard',\n",
              " 'hilbert',\n",
              " 'bolzano',\n",
              " 'newton',\n",
              " 'albert',\n",
              " 'srinivasa',\n",
              " 'oparin',\n",
              " 'jacobian',\n",
              " 'newton',\n",
              " 'srinivasa',\n",
              " 'ramanujan',\n",
              " 'maxwell',\n",
              " 'hilbert',\n",
              " 'newton',\n",
              " 'euclid',\n",
              " 'kolmogorov',\n",
              " 'hilbert',\n",
              " 'ursula',\n",
              " 'ursula',\n",
              " 'zigmund',\n",
              " 'tchaikowsky',\n",
              " 'jacobian',\n",
              " 'isaac',\n",
              " 'tchaikowsky',\n",
              " 'planck',\n",
              " 'newton',\n",
              " 'leonard',\n",
              " 'kolmogorov',\n",
              " 'gauss',\n",
              " 'leonard',\n",
              " 'tchaikowsky',\n",
              " 'zigmund',\n",
              " 'oparin',\n",
              " 'cauchy',\n",
              " 'kolmogorov',\n",
              " 'isaac',\n",
              " 'srinivasa',\n",
              " 'f(x)',\n",
              " 'zigmund',\n",
              " 'gauss',\n",
              " 'gauss',\n",
              " 'newton',\n",
              " 'quentin',\n",
              " 'zigmund',\n",
              " 'maxwell',\n",
              " 'f(x)',\n",
              " 'albert',\n",
              " 'oparin',\n",
              " 'leonard',\n",
              " 'srinivasa',\n",
              " 'ramanujan',\n",
              " 'f(x)',\n",
              " 'isaac',\n",
              " 'kolmogorov',\n",
              " 'zigmund',\n",
              " 'ursula',\n",
              " 'kolmogorov',\n",
              " 'vinci',\n",
              " \"d'alambert\",\n",
              " 'isaac',\n",
              " 'bolzano',\n",
              " 'tchaikowsky',\n",
              " 'cauchy',\n",
              " 'maxwell']"
            ]
          },
          "metadata": {
            "tags": []
          },
          "execution_count": 80
        }
      ]
    },
    {
      "cell_type": "code",
      "metadata": {
        "colab": {
          "base_uri": "https://localhost:8080/",
          "height": 142
        },
        "id": "SvMzHoAnL5tW",
        "outputId": "26ab0b2a-6a90-4617-d688-76e83a32adc6"
      },
      "source": [
        "v1 = generate_name_vector(N=100)\n",
        "v2 = generate_name_vector(N=200)\n",
        "ElementSearch(v1,v2).results()"
      ],
      "execution_count": 81,
      "outputs": [
        {
          "output_type": "display_data",
          "data": {
            "text/html": [
              "<div>\n",
              "<style scoped>\n",
              "    .dataframe tbody tr th:only-of-type {\n",
              "        vertical-align: middle;\n",
              "    }\n",
              "\n",
              "    .dataframe tbody tr th {\n",
              "        vertical-align: top;\n",
              "    }\n",
              "\n",
              "    .dataframe thead th {\n",
              "        text-align: right;\n",
              "    }\n",
              "</style>\n",
              "<table border=\"1\" class=\"dataframe\">\n",
              "  <thead>\n",
              "    <tr style=\"text-align: right;\">\n",
              "      <th></th>\n",
              "      <th>res</th>\n",
              "      <th>y_size</th>\n",
              "      <th>dt (s)</th>\n",
              "      <th>algorithm</th>\n",
              "    </tr>\n",
              "  </thead>\n",
              "  <tbody>\n",
              "    <tr>\n",
              "      <th>0</th>\n",
              "      <td>[Found, Found, Found, Found, Found, Found, Fou...</td>\n",
              "      <td>200</td>\n",
              "      <td>0.000076</td>\n",
              "      <td>brute</td>\n",
              "    </tr>\n",
              "    <tr>\n",
              "      <th>1</th>\n",
              "      <td>[Found, Found, Found, Found, Found, Found, Fou...</td>\n",
              "      <td>25</td>\n",
              "      <td>0.000054</td>\n",
              "      <td>unique</td>\n",
              "    </tr>\n",
              "    <tr>\n",
              "      <th>2</th>\n",
              "      <td>[Not Found, Not Found, Not Found, Not Found, N...</td>\n",
              "      <td>25</td>\n",
              "      <td>0.000009</td>\n",
              "      <td>intersection</td>\n",
              "    </tr>\n",
              "  </tbody>\n",
              "</table>\n",
              "</div>"
            ],
            "text/plain": [
              "                                                 res  ...     algorithm\n",
              "0  [Found, Found, Found, Found, Found, Found, Fou...  ...         brute\n",
              "1  [Found, Found, Found, Found, Found, Found, Fou...  ...        unique\n",
              "2  [Not Found, Not Found, Not Found, Not Found, N...  ...  intersection\n",
              "\n",
              "[3 rows x 4 columns]"
            ]
          },
          "metadata": {
            "tags": []
          }
        }
      ]
    }
  ]
}